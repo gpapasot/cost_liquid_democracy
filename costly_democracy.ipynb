{
  "nbformat": 4,
  "nbformat_minor": 0,
  "metadata": {
    "colab": {
      "provenance": []
    },
    "kernelspec": {
      "name": "python3",
      "display_name": "Python 3"
    },
    "language_info": {
      "name": "python"
    }
  },
  "cells": [
    {
      "cell_type": "markdown",
      "source": [
        "## The main routine that we will use works when the input is a tree (directed towards the root).\n",
        "\n",
        "*min_cost_delegation(tree, voting_costs, delegating_costs, max_path_length):*\n",
        "\n",
        "*   tree: List of lists representing the tree, where tree[i] contains the indices of incoming neighbors of vertex i\n",
        "*   voting_costs: List where voting_costs[i] is the voting cost of vertex i\n",
        "*   delegating_costs: List where delegating_costs[i] is the delegating cost of vertex i (we will mostly use the unit list hereinafter)\n",
        "*   max_path_length: Maximum allowed path length from a delegating vertex to a casting voter\n",
        "* it returns a tuple showing the minimum cost and the list of indices of selected voters to cast ballots.\n"
      ],
      "metadata": {
        "id": "mW3Kso1JdT53"
      }
    },
    {
      "cell_type": "code",
      "source": [
        "def min_cost_delegation(tree, voting_costs, delegating_costs, max_path_length):\n",
        "    n = len(tree)  # Number of vertices\n",
        "\n",
        "    # Find root: vertex with no outgoing edges\n",
        "    is_child = [False] * n\n",
        "    for i in range(n):\n",
        "        for child in tree[i]:\n",
        "            is_child[child] = True\n",
        "\n",
        "    root = -1\n",
        "    for i in range(n):\n",
        "        if not is_child[i]:\n",
        "            root = i\n",
        "            break\n",
        "\n",
        "    if root == -1:\n",
        "        raise ValueError(\"No root found. The input is not a valid tree.\")\n",
        "\n",
        "    # Initialize DP table,dp[v][k] = (cost, selected vertices) for subtree rooted at v with max path length k\n",
        "    dp = [[(float('inf'), []) for _ in range(max_path_length + 1)] for _ in range(n)]\n",
        "\n",
        "    # bottom-up traversal\n",
        "    def dfs(vertex):\n",
        "        children = tree[vertex]\n",
        "\n",
        "        # Base case: leaf node\n",
        "        if not children:\n",
        "            # Leaf vertex votes\n",
        "            dp[vertex][0] = (voting_costs[vertex], [vertex])\n",
        "\n",
        "            # Leaf vertex delegates (only valid if max_path_length > 0)\n",
        "            for k in range(1, max_path_length + 1):\n",
        "                dp[vertex][k] = (delegating_costs[vertex], [])\n",
        "\n",
        "            return\n",
        "\n",
        "        # Process children first\n",
        "        for child in children:\n",
        "            dfs(child)\n",
        "\n",
        "        # Case 1: vertex votes\n",
        "        selected_vertices = [vertex]\n",
        "        total_cost = voting_costs[vertex]\n",
        "\n",
        "        for child in children:\n",
        "            # For each child, find the best option (vote or delegate with any valid path length)\n",
        "            min_child_cost = float('inf')\n",
        "            best_child_selected = []\n",
        "\n",
        "            # Child votes\n",
        "            child_cost, child_selected = dp[child][0]\n",
        "            if child_cost < min_child_cost:\n",
        "                min_child_cost = child_cost\n",
        "                best_child_selected = child_selected\n",
        "\n",
        "            # Child delegates\n",
        "            for k in range(1, max_path_length + 1):\n",
        "                child_cost, child_selected = dp[child][k]\n",
        "                if child_cost < min_child_cost:\n",
        "                    min_child_cost = child_cost\n",
        "                    best_child_selected = child_selected\n",
        "\n",
        "            total_cost += min_child_cost\n",
        "            selected_vertices.extend(best_child_selected)\n",
        "\n",
        "        dp[vertex][0] = (total_cost, selected_vertices)\n",
        "\n",
        "        # Case 2: vertex delegates (only valid if k > 0)\n",
        "        for k in range(1, max_path_length + 1):\n",
        "            selected_vertices = []\n",
        "            total_cost = delegating_costs[vertex]\n",
        "\n",
        "            for child in children:\n",
        "                # For each child, find the best option\n",
        "                # Either child votes, or delegates with path length k-1\n",
        "                min_child_cost = float('inf')\n",
        "                best_child_selected = []\n",
        "\n",
        "                # Child votes\n",
        "                child_cost, child_selected = dp[child][0]\n",
        "                if child_cost < min_child_cost:\n",
        "                    min_child_cost = child_cost\n",
        "                    best_child_selected = child_selected\n",
        "\n",
        "                # Child delegates with path length k-1 (only if k > 1)\n",
        "                if k > 1:\n",
        "                    child_cost, child_selected = dp[child][k-1]\n",
        "                    if child_cost < min_child_cost:\n",
        "                        min_child_cost = child_cost\n",
        "                        best_child_selected = child_selected\n",
        "\n",
        "                total_cost += min_child_cost\n",
        "                selected_vertices.extend(best_child_selected)\n",
        "\n",
        "            dp[vertex][k] = (total_cost, selected_vertices)\n",
        "\n",
        "    dfs(root)\n",
        "\n",
        "    # Root must vote\n",
        "    min_cost, selected_vertices = dp[root][0]\n",
        "\n",
        "\n",
        "    # print(f\"Selected vertices: {selected_vertices}\")\n",
        "    # all_vertices = set(range(len(tree)))\n",
        "    # delegating_vertices = all_vertices - set(selected_vertices)\n",
        "    # print(f\"Delegating vertices: {list(delegating_vertices)}\")\n",
        "    # total_delegating_cost = sum(delegating_costs[v] for v in delegating_vertices)\n",
        "    # print(f\"Total cost breakdown: Voting = {total_voting_cost}, Delegating = {total_delegating_cost}, Total = {total_voting_cost + total_delegating_cost}\")\n",
        "\n",
        "\n",
        "    total_voting_cost = sum(voting_costs[v] for v in selected_vertices)\n",
        "    # print(f\"Total voting cost: {total_voting_cost}\")\n",
        "\n",
        "\n",
        "    return total_voting_cost, selected_vertices"
      ],
      "metadata": {
        "id": "F4d5laNftteH"
      },
      "execution_count": 65,
      "outputs": []
    },
    {
      "cell_type": "markdown",
      "source": [
        "## Some examples on the usage of our main DP routine follow"
      ],
      "metadata": {
        "id": "G2naq5CIhdjJ"
      }
    },
    {
      "cell_type": "code",
      "source": [
        "    \"\"\"\n",
        "    Simple tree example:\n",
        "         0\n",
        "        / \\\n",
        "       1   2\n",
        "      / \\   \\\n",
        "     3   4   5\n",
        "    \"\"\"\n",
        "tree = [\n",
        "        [1, 2],  # 0 has incoming edges from 1 and 2\n",
        "        [3, 4],  # 1 has incoming edges from 3 and 4\n",
        "        [5],     # 2 has incoming edge from 5\n",
        "        [],      # 3 has no incoming edges\n",
        "        [],      # 4 has no incoming edges\n",
        "        []       # 5 has no incoming edges\n",
        "    ]\n",
        "\n",
        "voting_costs = [12, 6, 3, 2, 2, 12]\n",
        "delegating_costs = [1, 1, 1, 1, 1, 1]\n",
        "max_path_length = 1\n",
        "\n",
        "min_cost_delegation(tree, voting_costs, delegating_costs, max_path_length)"
      ],
      "metadata": {
        "colab": {
          "base_uri": "https://localhost:8080/"
        },
        "id": "Fhl8YfwE1htM",
        "outputId": "32af84fd-f387-43df-e84a-a4d3c1b0974b"
      },
      "execution_count": 66,
      "outputs": [
        {
          "output_type": "execute_result",
          "data": {
            "text/plain": [
              "(19, [0, 3, 4, 2])"
            ]
          },
          "metadata": {},
          "execution_count": 66
        }
      ]
    },
    {
      "cell_type": "code",
      "source": [
        "    \"\"\"\n",
        "    Deeper tree example:\n",
        "           0\n",
        "          / \\\n",
        "         1   2\n",
        "        /     \\\n",
        "       3       4\n",
        "      / \\     / \\\n",
        "     5   6   7   8\n",
        "    \"\"\"\n",
        "tree = [\n",
        "        [1, 2],   # 0 has incoming edges from 1 and 2\n",
        "        [3],      # 1 has incoming edge from 3\n",
        "        [4],      # 2 has incoming edge from 4\n",
        "        [5, 6],   # 3 has incoming edges from 5 and 6\n",
        "        [7, 8],   # 4 has incoming edges from 7 and 8\n",
        "        [],       # 5 has no incoming edges\n",
        "        [],       # 6 has no incoming edges\n",
        "        [],       # 7 has no incoming edges\n",
        "        []        # 8 has no incoming edges\n",
        "    ]\n",
        "\n",
        "voting_costs = [2, 6, 7, 5, 8, 2, 2, 2, 6]\n",
        "delegating_costs = [1, 1, 1, 1, 1, 1, 1, 1, 1]\n",
        "\n",
        "max_path_length = 2\n",
        "\n",
        "min_cost_delegation(tree, voting_costs, delegating_costs, max_path_length)\n",
        "\n"
      ],
      "metadata": {
        "colab": {
          "base_uri": "https://localhost:8080/"
        },
        "id": "19QTocDk1l-f",
        "outputId": "98281e2f-7644-4b0a-c2a4-d133e4c22218"
      },
      "execution_count": 67,
      "outputs": [
        {
          "output_type": "execute_result",
          "data": {
            "text/plain": [
              "(13, [0, 5, 6, 2])"
            ]
          },
          "metadata": {},
          "execution_count": 67
        }
      ]
    },
    {
      "cell_type": "code",
      "source": [
        "    \"\"\"\n",
        "    Linear chain example:\n",
        "    0 <- 1 <- 2 <- 3 <- 4 <- 5\n",
        "    \"\"\"\n",
        "tree = [\n",
        "        [1],      # 0 has incoming edge from 1\n",
        "        [2],      # 1 has incoming edge from 2\n",
        "        [3],      # 2 has incoming edge from 3\n",
        "        [4],      # 3 has incoming edge from 4\n",
        "        [5],      # 4 has incoming edge from 5\n",
        "        []        # 5 has no incoming edges\n",
        "    ]\n",
        "\n",
        "voting_costs = [5, 5, 5, 10, 5, 5]\n",
        "delegating_costs = [1, 1, 1, 1, 1, 1]\n",
        "max_path_length = 2\n",
        "min_cost_delegation(tree, voting_costs, delegating_costs, max_path_length)\n"
      ],
      "metadata": {
        "colab": {
          "base_uri": "https://localhost:8080/"
        },
        "id": "oy-VY2ax1pAr",
        "outputId": "94f46f74-bb43-4583-ba88-3d64153dacf0"
      },
      "execution_count": 69,
      "outputs": [
        {
          "output_type": "execute_result",
          "data": {
            "text/plain": [
              "(15, [0, 1, 4])"
            ]
          },
          "metadata": {},
          "execution_count": 69
        }
      ]
    },
    {
      "cell_type": "code",
      "source": [
        "    \"\"\"\n",
        "    Star topology example:\n",
        "        0\n",
        "       /|\\\n",
        "      1 2 3\n",
        "     /|   |\\\n",
        "    4 5   6 7\n",
        "    \"\"\"\n",
        "tree = [\n",
        "        [1, 2, 3],    # 0 has incoming edges from 1, 2, 3\n",
        "        [4, 5],       # 1 has incoming edges from 4, 5\n",
        "        [],           # 2 has no incoming edges\n",
        "        [6, 7],       # 3 has incoming edges from 6, 7\n",
        "        [],           # 4 has no incoming edges\n",
        "        [],           # 5 has no incoming edges\n",
        "        [],           # 6 has no incoming edges\n",
        "        []            # 7 has no incoming edges\n",
        "    ]\n",
        "\n",
        "voting_costs = [10, 3, 5, 5, 2, 2, 2, 2]\n",
        "delegating_costs = [1, 1, 1, 1, 1, 1, 1, 1]\n",
        "max_path_length = 1\n",
        "\n",
        "min_cost_delegation(tree, voting_costs, delegating_costs, max_path_length)"
      ],
      "metadata": {
        "colab": {
          "base_uri": "https://localhost:8080/"
        },
        "id": "k-mSeOib1rMB",
        "outputId": "fe4b1a5e-6b29-4780-d8cf-9259278ffcf4"
      },
      "execution_count": 37,
      "outputs": [
        {
          "output_type": "stream",
          "name": "stdout",
          "text": [
            "Selected vertices: [0, 1, 6, 7]\n",
            "Total voting cost: 17\n"
          ]
        },
        {
          "output_type": "execute_result",
          "data": {
            "text/plain": [
              "(17, [0, 1, 6, 7])"
            ]
          },
          "metadata": {},
          "execution_count": 37
        }
      ]
    },
    {
      "cell_type": "code",
      "source": [
        "\n",
        "    \"\"\"\n",
        "    Unbalanced tree example:\n",
        "           0\n",
        "          / \\\n",
        "         1   2\n",
        "        /     \\\n",
        "       3       4\n",
        "      /         \\\n",
        "     5           6\n",
        "    \"\"\"\n",
        "tree = [\n",
        "        [1, 2],   # 0 has incoming edges from 1 and 2\n",
        "        [3],      # 1 has incoming edge from 3\n",
        "        [4],      # 2 has incoming edge from 4\n",
        "        [5],      # 3 has incoming edge from 5\n",
        "        [6],      # 4 has incoming edge from 6\n",
        "        [],       # 5 has no incoming edges\n",
        "        []        # 6 has no incoming edges\n",
        "    ]\n",
        "\n",
        "voting_costs = [12, 7, 7, 4, 9, 2, 2]\n",
        "delegating_costs = [1, 1, 1, 1, 1, 1, 1]\n",
        "\n",
        "max_path_length=1\n",
        "min_cost_delegation(tree, voting_costs, delegating_costs, max_path_length)"
      ],
      "metadata": {
        "colab": {
          "base_uri": "https://localhost:8080/"
        },
        "id": "hdUMnvEv1tEY",
        "outputId": "02132b0e-614d-4a9e-b864-440e61d78382"
      },
      "execution_count": 70,
      "outputs": [
        {
          "output_type": "execute_result",
          "data": {
            "text/plain": [
              "(25, [0, 3, 2, 6])"
            ]
          },
          "metadata": {},
          "execution_count": 70
        }
      ]
    },
    {
      "cell_type": "markdown",
      "source": [
        "### We now extend our code to handle any (connected) graph of out-deg<=1. Those are graphs with at most a cycle, so if we remove an edge (any such) we have a tree and our min_cost_delegation procedure can run. We can repeat this for every possible edge removal."
      ],
      "metadata": {
        "id": "VTsO0ZjXhrs2"
      }
    },
    {
      "cell_type": "code",
      "source": [
        "import networkx as nx\n",
        "def adjacency_list_to_edgelist(tree):\n",
        "    \"\"\"Converts an adjacency list representation to an edge list.\"\"\"\n",
        "    edges = []\n",
        "    for child, parents in enumerate(tree):\n",
        "        for parent in parents:\n",
        "            edges.append((parent, child))\n",
        "    return edges\n",
        "\n",
        "def is_connected_after_removal(graph, edge):\n",
        "    \"\"\"Checks if the graph remains connected after removing the given edge.\"\"\"\n",
        "    G = nx.DiGraph(graph)\n",
        "    G.remove_edge(*edge)\n",
        "    return nx.is_weakly_connected(G)\n",
        "\n",
        "def get_tree_after_removal(graph, edge):\n",
        "    \"\"\"Returns the tree representation after removing the given edge.\"\"\"\n",
        "    G = nx.DiGraph(graph)\n",
        "    G.remove_edge(*edge)\n",
        "    tree = [[] for _ in range(len(graph))]\n",
        "    for u, v in G.edges:\n",
        "        tree[v].append(u)\n",
        "    return tree\n",
        "\n",
        "def min_cost_after_edge_removal(tree, voting_costs, delegating_costs, max_path_length):\n",
        "    edges = adjacency_list_to_edgelist(tree)\n",
        "    G = nx.DiGraph(edges)\n",
        "    min_cost = float('inf')\n",
        "    best_set = set()\n",
        "\n",
        "    # If already a tree, run min_cost_delegation without removing anything\n",
        "    if nx.is_tree(G):\n",
        "        min_cost, best_set = min_cost_delegation(tree, voting_costs, delegating_costs, max_path_length)\n",
        "\n",
        "    for edge in G.edges:\n",
        "        # print('remove:',edge)\n",
        "        if is_connected_after_removal(G, edge):\n",
        "            new_tree = get_tree_after_removal(G, edge)\n",
        "            cost, selected_vertices = min_cost_delegation(new_tree, voting_costs, delegating_costs, max_path_length)\n",
        "            if cost < min_cost:\n",
        "                min_cost = cost\n",
        "                best_set = selected_vertices\n",
        "\n",
        "    return min_cost, best_set"
      ],
      "metadata": {
        "id": "DVtTMKdL-aEd"
      },
      "execution_count": 73,
      "outputs": []
    },
    {
      "cell_type": "code",
      "source": [
        "# Example usage\n",
        "tree = [\n",
        "    [1, 2, 10],  # 0 has incoming edges from 1 and 2, 10\n",
        "    [3],      # 1 has incoming edge from 3\n",
        "    [4],      # 2 has incoming edge from 4\n",
        "    [5, 6],   # 3 has incoming edges from 5 and 6\n",
        "    [7, 8],   # 4 has incoming edges from 7 and 8\n",
        "    [], [], [], [],  # Leaves\n",
        "    [0],\n",
        "    [9]\n",
        "]\n",
        "voting_costs = [2, 2, 3, 4, 5, 6, 7, 8, 9, 2, 2]\n",
        "delegating_costs = [1, 1, 1, 1, 1, 1, 1, 1, 1, 1, 1]\n",
        "max_path_length = 2\n",
        "\n",
        "min_cost, selected_vertices = min_cost_after_edge_removal(tree, voting_costs, delegating_costs, max_path_length)\n",
        "print(min_cost, selected_vertices)"
      ],
      "metadata": {
        "id": "v9MtiNgL-aGi",
        "colab": {
          "base_uri": "https://localhost:8080/"
        },
        "outputId": "489d53bc-9799-48bc-c839-502a14c7e5c5"
      },
      "execution_count": 80,
      "outputs": [
        {
          "output_type": "stream",
          "name": "stdout",
          "text": [
            "7 [0, 1, 2]\n"
          ]
        }
      ]
    },
    {
      "cell_type": "markdown",
      "source": [
        "### Finally, we extend the code to be able to handle disconnected inputs. In that case, we run the previous procedure for each component separately, the returned cost is the sum of voting costs for all components."
      ],
      "metadata": {
        "id": "_kmD0hFviFd4"
      }
    },
    {
      "cell_type": "code",
      "source": [
        "def dfs(graph, node, visited, component):\n",
        "    visited[node] = True\n",
        "    component.append(node)\n",
        "    for neighbor in graph[node]:\n",
        "        if not visited[neighbor]:\n",
        "            dfs(graph, neighbor, visited, component)\n",
        "\n",
        "\n",
        "def run_for_connected_components(tree, voting_costs, delegating_costs, max_path_length):\n",
        "    # Step 1: Check for connected components\n",
        "    visited = [False] * len(tree)\n",
        "    components = []\n",
        "    final_cost = 0\n",
        "\n",
        "    for node in range(len(tree)):\n",
        "        if not visited[node]:\n",
        "            component = []\n",
        "            dfs(tree, node, visited, component)\n",
        "            components.append(component)\n",
        "\n",
        "    # Step 2: Run min_cost_after_edge_removal for each component\n",
        "    for component in components:\n",
        "        # print()\n",
        "\n",
        "        # Step 2a: Handle components of size 1\n",
        "        if len(component) == 1:\n",
        "            node = component[0]\n",
        "            final_cost = final_cost+voting_costs[node]  # Add the cost of the single node\n",
        "            # selected_vertices = [node]  # The selected vertex is just the single node\n",
        "            print(f\"Component size 1: selected_vertex (original ID): {node}, cost: {voting_costs[node]}, current total cost: {final_cost}\")\n",
        "            continue  # Skip the min_cost_after_edge_removal for this component\n",
        "\n",
        "        # Step 2b: For components with at least 2 vertices, proceed normally\n",
        "        # Create an adjacency list for the component using original node IDs\n",
        "        subgraph = [[] for _ in range(len(tree))]\n",
        "\n",
        "        # Copy the relevant edges for the current component, preserving original node IDs\n",
        "        for node in component:\n",
        "            for neighbor in tree[node]:\n",
        "                if neighbor in component:  # Only include neighbors within the component\n",
        "                    subgraph[node].append(neighbor)\n",
        "\n",
        "        # # Step 2c: Call min_cost_after_edge_removal for the subgraph\n",
        "        # min_cost, selected_vertices = min_cost_after_edge_removal(subgraph, voting_costs, delegating_costs, max_path_length)\n",
        "        # final_cost = final_cost+min_cost\n",
        "        # # Step 2d: Map selected local component vertices to their original node IDs\n",
        "        # # Map original node IDs to local indices\n",
        "        id_map = {original_id: idx for idx, original_id in enumerate(component)}\n",
        "        reverse_map = {idx: original_id for idx, original_id in enumerate(component)}\n",
        "\n",
        "        # Create subgraph with local indices\n",
        "        subgraph = [[] for _ in component]\n",
        "        for node in component:\n",
        "            for neighbor in tree[node]:\n",
        "                if neighbor in component:\n",
        "                    subgraph[id_map[node]].append(id_map[neighbor])\n",
        "\n",
        "        # Call the function with locally-indexed subgraph\n",
        "        min_cost, selected_vertices = min_cost_after_edge_removal(subgraph, [voting_costs[node] for node in component], [delegating_costs[node] for node in component], max_path_length)\n",
        "        final_cost+=min_cost\n",
        "        # print('cost of the examined component',min_cost,\"total current cost\",final_cost)\n",
        "\n",
        "        # Map back to original node IDs\n",
        "        original_selected_vertices = [reverse_map[node] for node in selected_vertices]\n",
        "\n",
        "        # Step 2e: Print the original node IDs (component nodes)\n",
        "        print(f\"Component of size >1.\",f\"vertices of the comp:{component}\" ,f\"selected_vertices from the component (original IDs): {original_selected_vertices}, Component Cost: {min_cost}, current total cost: {final_cost}\")\n",
        "\n",
        "    # Step 3: Print the total cost\n",
        "    print('\\nThe total voting cost to be paid is')\n",
        "    return final_cost"
      ],
      "metadata": {
        "id": "54gvr76k-tOu"
      },
      "execution_count": 149,
      "outputs": []
    },
    {
      "cell_type": "code",
      "source": [
        "graph = [\n",
        "    [1],  # Component 1\n",
        "    [2],  # this is a path of length 2\n",
        "    [],   # Leaf in Component 1\n",
        "    [4],  # Component 2; path of length 1\n",
        "    [],   # Leaf in Component 2\n",
        "    [6],  # Component 3; path of length 1\n",
        "    []    # Leaf in Component 3\n",
        "]\n",
        "voting_costs = [1, 4, 3, 4, 5, 7, 7]\n",
        "max_path_length = 1\n",
        "\n",
        "run_for_connected_components(graph, voting_costs, [1]*len(graph), max_path_length)"
      ],
      "metadata": {
        "id": "XcaUTgW8EQ3-",
        "colab": {
          "base_uri": "https://localhost:8080/"
        },
        "outputId": "d73ec6f2-fb80-4b18-b53a-e57508a9c882"
      },
      "execution_count": 150,
      "outputs": [
        {
          "output_type": "stream",
          "name": "stdout",
          "text": [
            "Component of size >1. vertices of the comp:[0, 1, 2] selected_vertices from the component (original IDs): [0, 2], Component Cost: 4, current total cost: 4\n",
            "Component of size >1. vertices of the comp:[3, 4] selected_vertices from the component (original IDs): [3], Component Cost: 4, current total cost: 8\n",
            "Component of size >1. vertices of the comp:[5, 6] selected_vertices from the component (original IDs): [5], Component Cost: 7, current total cost: 15\n",
            "\n",
            "The total voting cost to be paid is\n"
          ]
        },
        {
          "output_type": "execute_result",
          "data": {
            "text/plain": [
              "15"
            ]
          },
          "metadata": {},
          "execution_count": 150
        }
      ]
    },
    {
      "cell_type": "code",
      "source": [],
      "metadata": {
        "id": "D5Vnfd7_5bbW"
      },
      "execution_count": 151,
      "outputs": []
    },
    {
      "cell_type": "code",
      "source": [
        "import pandas as pd\n",
        "df=pd.read_csv('data.csv')\n",
        "essai = df.loc[(df.CodeQuestion == 'K1')&(df.ExpNum == 'E13')]"
      ],
      "metadata": {
        "id": "3iuUZ8dG6GpJ"
      },
      "execution_count": 156,
      "outputs": []
    },
    {
      "cell_type": "code",
      "source": [
        "graph = []\n",
        "for i, r in essai.iterrows():\n",
        "    leaves = list(essai.loc[essai.DelID == r.ID].ID)\n",
        "    graph.append(leaves)\n",
        "# print(graph,len(graph))\n",
        "print(\"\",list(essai.AverageExpertise),len(list(essai.AverageExpertise)))\n",
        "run_for_connected_components(graph, list(essai.AverageExpertise), [1]*len(graph), 1)"
      ],
      "metadata": {
        "colab": {
          "base_uri": "https://localhost:8080/"
        },
        "id": "7GV_PZiJ6OYC",
        "outputId": "62cf5164-0982-49d1-bcfb-1d3d126e13b9"
      },
      "execution_count": 158,
      "outputs": [
        {
          "output_type": "stream",
          "name": "stdout",
          "text": [
            " [0.5, 0.625, 0.625, 0.625, 0.5, 0.875, 0.75, 0.75, 0.5, 0.875, 0.5, 0.75, 0.5, 0.75, 0.75, 0.375, 0.75, 0.625, 0.625, 0.25, 0.625, 0.625, 0.75, 0.625, 0.5, 0.5, 0.625, 0.5, 0.375, 0.625, 0.875, 0.625, 0.5, 0.875, 0.625, 0.625, 0.625, 0.375, 0.375, 0.75, 0.75, 0.875, 0.625, 0.625, 0.75, 0.75, 0.75, 0.75, 0.875, 0.875] 50\n",
            "Component of size >1. vertices of the comp:[0, 16, 33] selected_vertices from the component (original IDs): [0, 16, 33], Component Cost: 2.125, current total cost: 2.125\n",
            "Component size 1: selected_vertex (original ID): 1, cost: 0.625, current total cost: 2.75\n",
            "Component size 1: selected_vertex (original ID): 2, cost: 0.625, current total cost: 3.375\n",
            "Component size 1: selected_vertex (original ID): 3, cost: 0.625, current total cost: 4.0\n",
            "Component size 1: selected_vertex (original ID): 4, cost: 0.5, current total cost: 4.5\n",
            "Component size 1: selected_vertex (original ID): 5, cost: 0.875, current total cost: 5.375\n",
            "Component size 1: selected_vertex (original ID): 6, cost: 0.75, current total cost: 6.125\n",
            "Component size 1: selected_vertex (original ID): 7, cost: 0.75, current total cost: 6.875\n",
            "Component size 1: selected_vertex (original ID): 8, cost: 0.5, current total cost: 7.375\n",
            "Component size 1: selected_vertex (original ID): 9, cost: 0.875, current total cost: 8.25\n",
            "Component size 1: selected_vertex (original ID): 10, cost: 0.5, current total cost: 8.75\n",
            "Component size 1: selected_vertex (original ID): 11, cost: 0.75, current total cost: 9.5\n",
            "Component size 1: selected_vertex (original ID): 12, cost: 0.5, current total cost: 10.0\n",
            "Component size 1: selected_vertex (original ID): 13, cost: 0.75, current total cost: 10.75\n",
            "Component of size >1. vertices of the comp:[14, 23, 29, 21, 34, 41, 42, 46] selected_vertices from the component (original IDs): [14, 23, 29, 21, 34, 41, 42, 46], Component Cost: 5.5, current total cost: 16.25\n",
            "Component size 1: selected_vertex (original ID): 15, cost: 0.375, current total cost: 16.625\n",
            "Component size 1: selected_vertex (original ID): 17, cost: 0.625, current total cost: 17.25\n",
            "Component size 1: selected_vertex (original ID): 18, cost: 0.625, current total cost: 17.875\n",
            "Component size 1: selected_vertex (original ID): 19, cost: 0.25, current total cost: 18.125\n",
            "Component size 1: selected_vertex (original ID): 20, cost: 0.625, current total cost: 18.75\n",
            "Component size 1: selected_vertex (original ID): 22, cost: 0.75, current total cost: 19.5\n",
            "Component size 1: selected_vertex (original ID): 24, cost: 0.5, current total cost: 20.0\n",
            "Component size 1: selected_vertex (original ID): 25, cost: 0.5, current total cost: 20.5\n",
            "Component size 1: selected_vertex (original ID): 26, cost: 0.625, current total cost: 21.125\n",
            "Component size 1: selected_vertex (original ID): 27, cost: 0.5, current total cost: 21.625\n",
            "Component size 1: selected_vertex (original ID): 28, cost: 0.375, current total cost: 22.0\n",
            "Component size 1: selected_vertex (original ID): 30, cost: 0.875, current total cost: 22.875\n",
            "Component size 1: selected_vertex (original ID): 31, cost: 0.625, current total cost: 23.5\n",
            "Component size 1: selected_vertex (original ID): 32, cost: 0.5, current total cost: 24.0\n",
            "Component size 1: selected_vertex (original ID): 35, cost: 0.625, current total cost: 24.625\n",
            "Component size 1: selected_vertex (original ID): 36, cost: 0.625, current total cost: 25.25\n",
            "Component size 1: selected_vertex (original ID): 37, cost: 0.375, current total cost: 25.625\n",
            "Component size 1: selected_vertex (original ID): 38, cost: 0.375, current total cost: 26.0\n",
            "Component size 1: selected_vertex (original ID): 39, cost: 0.75, current total cost: 26.75\n",
            "Component size 1: selected_vertex (original ID): 40, cost: 0.75, current total cost: 27.5\n",
            "Component size 1: selected_vertex (original ID): 43, cost: 0.625, current total cost: 28.125\n",
            "Component size 1: selected_vertex (original ID): 44, cost: 0.75, current total cost: 28.875\n",
            "Component size 1: selected_vertex (original ID): 45, cost: 0.75, current total cost: 29.625\n",
            "Component size 1: selected_vertex (original ID): 47, cost: 0.75, current total cost: 30.375\n",
            "Component size 1: selected_vertex (original ID): 48, cost: 0.875, current total cost: 31.25\n",
            "Component size 1: selected_vertex (original ID): 49, cost: 0.875, current total cost: 32.125\n",
            "\n",
            "The total voting cost to be paid is\n"
          ]
        },
        {
          "output_type": "execute_result",
          "data": {
            "text/plain": [
              "32.125"
            ]
          },
          "metadata": {},
          "execution_count": 158
        }
      ]
    },
    {
      "cell_type": "code",
      "source": [],
      "metadata": {
        "colab": {
          "base_uri": "https://localhost:8080/"
        },
        "id": "Ww4GvfRY6xFy",
        "outputId": "2e5ba86c-2ed5-4785-f32c-562dc11bc593"
      },
      "execution_count": 155,
      "outputs": [
        {
          "output_type": "stream",
          "name": "stdout",
          "text": [
            "Component of size >1. vertices of the comp:[0, 16, 33] selected_vertices from the component (original IDs): [0, 16, 33], Component Cost: 2.125, current total cost: 2.125\n",
            "Component size 1: selected_vertex (original ID): 1, cost: 0.625, current total cost: 2.75\n",
            "Component size 1: selected_vertex (original ID): 2, cost: 0.625, current total cost: 3.375\n",
            "Component size 1: selected_vertex (original ID): 3, cost: 0.625, current total cost: 4.0\n",
            "Component size 1: selected_vertex (original ID): 4, cost: 0.5, current total cost: 4.5\n",
            "Component size 1: selected_vertex (original ID): 5, cost: 0.875, current total cost: 5.375\n",
            "Component size 1: selected_vertex (original ID): 6, cost: 0.75, current total cost: 6.125\n",
            "Component size 1: selected_vertex (original ID): 7, cost: 0.75, current total cost: 6.875\n",
            "Component size 1: selected_vertex (original ID): 8, cost: 0.5, current total cost: 7.375\n",
            "Component size 1: selected_vertex (original ID): 9, cost: 0.875, current total cost: 8.25\n",
            "Component size 1: selected_vertex (original ID): 10, cost: 0.5, current total cost: 8.75\n",
            "Component size 1: selected_vertex (original ID): 11, cost: 0.75, current total cost: 9.5\n",
            "Component size 1: selected_vertex (original ID): 12, cost: 0.5, current total cost: 10.0\n",
            "Component size 1: selected_vertex (original ID): 13, cost: 0.75, current total cost: 10.75\n",
            "Component of size >1. vertices of the comp:[14, 23, 29, 21, 34, 41, 42, 46] selected_vertices from the component (original IDs): [14, 23, 29, 21, 34, 41, 42, 46], Component Cost: 5.5, current total cost: 16.25\n",
            "Component size 1: selected_vertex (original ID): 15, cost: 0.375, current total cost: 16.625\n",
            "Component size 1: selected_vertex (original ID): 17, cost: 0.625, current total cost: 17.25\n",
            "Component size 1: selected_vertex (original ID): 18, cost: 0.625, current total cost: 17.875\n",
            "Component size 1: selected_vertex (original ID): 19, cost: 0.25, current total cost: 18.125\n",
            "Component size 1: selected_vertex (original ID): 20, cost: 0.625, current total cost: 18.75\n",
            "Component size 1: selected_vertex (original ID): 22, cost: 0.75, current total cost: 19.5\n",
            "Component size 1: selected_vertex (original ID): 24, cost: 0.5, current total cost: 20.0\n",
            "Component size 1: selected_vertex (original ID): 25, cost: 0.5, current total cost: 20.5\n",
            "Component size 1: selected_vertex (original ID): 26, cost: 0.625, current total cost: 21.125\n",
            "Component size 1: selected_vertex (original ID): 27, cost: 0.5, current total cost: 21.625\n",
            "Component size 1: selected_vertex (original ID): 28, cost: 0.375, current total cost: 22.0\n",
            "Component size 1: selected_vertex (original ID): 30, cost: 0.875, current total cost: 22.875\n",
            "Component size 1: selected_vertex (original ID): 31, cost: 0.625, current total cost: 23.5\n",
            "Component size 1: selected_vertex (original ID): 32, cost: 0.5, current total cost: 24.0\n",
            "Component size 1: selected_vertex (original ID): 35, cost: 0.625, current total cost: 24.625\n",
            "Component size 1: selected_vertex (original ID): 36, cost: 0.625, current total cost: 25.25\n",
            "Component size 1: selected_vertex (original ID): 37, cost: 0.375, current total cost: 25.625\n",
            "Component size 1: selected_vertex (original ID): 38, cost: 0.375, current total cost: 26.0\n",
            "Component size 1: selected_vertex (original ID): 39, cost: 0.75, current total cost: 26.75\n",
            "Component size 1: selected_vertex (original ID): 40, cost: 0.75, current total cost: 27.5\n",
            "Component size 1: selected_vertex (original ID): 43, cost: 0.625, current total cost: 28.125\n",
            "Component size 1: selected_vertex (original ID): 44, cost: 0.75, current total cost: 28.875\n",
            "Component size 1: selected_vertex (original ID): 45, cost: 0.75, current total cost: 29.625\n",
            "Component size 1: selected_vertex (original ID): 47, cost: 0.75, current total cost: 30.375\n",
            "Component size 1: selected_vertex (original ID): 48, cost: 0.875, current total cost: 31.25\n",
            "Component size 1: selected_vertex (original ID): 49, cost: 0.875, current total cost: 32.125\n",
            "\n",
            "The total voting cost to be paid is\n"
          ]
        },
        {
          "output_type": "execute_result",
          "data": {
            "text/plain": [
              "32.125"
            ]
          },
          "metadata": {},
          "execution_count": 155
        }
      ]
    },
    {
      "cell_type": "code",
      "source": [],
      "metadata": {
        "id": "2oHkrjpX87wt"
      },
      "execution_count": null,
      "outputs": []
    }
  ]
}