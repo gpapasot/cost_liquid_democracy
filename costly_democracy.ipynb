{
  "nbformat": 4,
  "nbformat_minor": 0,
  "metadata": {
    "colab": {
      "provenance": []
    },
    "kernelspec": {
      "name": "python3",
      "display_name": "Python 3"
    },
    "language_info": {
      "name": "python"
    }
  },
  "cells": [
    {
      "cell_type": "markdown",
      "source": [
        "## The main routine that we will use works when the input is a tree (directed towards the root).\n",
        "\n",
        "*min_cost_delegation(tree, voting_costs, delegating_costs, max_path_length):*\n",
        "\n",
        "*   tree: List of lists representing the tree, where tree[i] contains the indices of incoming neighbors of vertex i\n",
        "*   voting_costs: List where voting_costs[i] is the voting cost of vertex i\n",
        "*   delegating_costs: List where delegating_costs[i] is the delegating cost of vertex i (we will mostly use the unit list hereinafter)\n",
        "*   max_path_length: Maximum allowed path length from a delegating vertex to a casting voter\n",
        "* it returns a tuple showing the minimum cost and the list of indices of selected voters to cast ballots.\n"
      ],
      "metadata": {
        "id": "mW3Kso1JdT53"
      }
    },
    {
      "cell_type": "code",
      "source": [
        "def min_cost_delegation(tree, voting_costs, delegating_costs, max_path_length):\n",
        "    n = len(tree)  # Number of vertices\n",
        "\n",
        "    # Find root: vertex with no outgoing edges\n",
        "    is_child = [False] * n\n",
        "    for i in range(n):\n",
        "        for child in tree[i]:\n",
        "            is_child[child] = True\n",
        "\n",
        "    root = -1\n",
        "    for i in range(n):\n",
        "        if not is_child[i]:\n",
        "            root = i\n",
        "            break\n",
        "\n",
        "    if root == -1:\n",
        "        raise ValueError(\"No root found. The input is not a valid tree.\")\n",
        "\n",
        "    # Initialize DP table,dp[v][k] = (cost, selected vertices) for subtree rooted at v with max path length k\n",
        "    dp = [[(float('inf'), []) for _ in range(max_path_length + 1)] for _ in range(n)]\n",
        "\n",
        "    # bottom-up traversal\n",
        "    def dfs(vertex):\n",
        "        children = tree[vertex]\n",
        "\n",
        "        # Base case: leaf node\n",
        "        if not children:\n",
        "            # Leaf vertex votes\n",
        "            dp[vertex][0] = (voting_costs[vertex], [vertex])\n",
        "\n",
        "            # Leaf vertex delegates (only valid if max_path_length > 0)\n",
        "            for k in range(1, max_path_length + 1):\n",
        "                dp[vertex][k] = (delegating_costs[vertex], [])\n",
        "\n",
        "            return\n",
        "\n",
        "        # Process children first\n",
        "        for child in children:\n",
        "            dfs(child)\n",
        "\n",
        "        # Case 1: vertex votes\n",
        "        selected_vertices = [vertex]\n",
        "        total_cost = voting_costs[vertex]\n",
        "\n",
        "        for child in children:\n",
        "            # For each child, find the best option (vote or delegate with any valid path length)\n",
        "            min_child_cost = float('inf')\n",
        "            best_child_selected = []\n",
        "\n",
        "            # Child votes\n",
        "            child_cost, child_selected = dp[child][0]\n",
        "            if child_cost < min_child_cost:\n",
        "                min_child_cost = child_cost\n",
        "                best_child_selected = child_selected\n",
        "\n",
        "            # Child delegates\n",
        "            for k in range(1, max_path_length + 1):\n",
        "                child_cost, child_selected = dp[child][k]\n",
        "                if child_cost < min_child_cost:\n",
        "                    min_child_cost = child_cost\n",
        "                    best_child_selected = child_selected\n",
        "\n",
        "            total_cost += min_child_cost\n",
        "            selected_vertices.extend(best_child_selected)\n",
        "\n",
        "        dp[vertex][0] = (total_cost, selected_vertices)\n",
        "\n",
        "        # Case 2: vertex delegates (only valid if k > 0)\n",
        "        for k in range(1, max_path_length + 1):\n",
        "            selected_vertices = []\n",
        "            total_cost = delegating_costs[vertex]\n",
        "\n",
        "            for child in children:\n",
        "                # For each child, find the best option\n",
        "                # Either child votes, or delegates with path length k-1\n",
        "                min_child_cost = float('inf')\n",
        "                best_child_selected = []\n",
        "\n",
        "                # Child votes\n",
        "                child_cost, child_selected = dp[child][0]\n",
        "                if child_cost < min_child_cost:\n",
        "                    min_child_cost = child_cost\n",
        "                    best_child_selected = child_selected\n",
        "\n",
        "                # Child delegates with path length k-1 (only if k > 1)\n",
        "                if k > 1:\n",
        "                    child_cost, child_selected = dp[child][k-1]\n",
        "                    if child_cost < min_child_cost:\n",
        "                        min_child_cost = child_cost\n",
        "                        best_child_selected = child_selected\n",
        "\n",
        "                total_cost += min_child_cost\n",
        "                selected_vertices.extend(best_child_selected)\n",
        "\n",
        "            dp[vertex][k] = (total_cost, selected_vertices)\n",
        "\n",
        "    dfs(root)\n",
        "\n",
        "    # Root must vote\n",
        "    min_cost, selected_vertices = dp[root][0]\n",
        "\n",
        "\n",
        "    print(f\"Selected vertices: {selected_vertices}\")\n",
        "    # all_vertices = set(range(len(tree)))\n",
        "    # delegating_vertices = all_vertices - set(selected_vertices)\n",
        "    # print(f\"Delegating vertices: {list(delegating_vertices)}\")\n",
        "    # total_delegating_cost = sum(delegating_costs[v] for v in delegating_vertices)\n",
        "    # print(f\"Total cost breakdown: Voting = {total_voting_cost}, Delegating = {total_delegating_cost}, Total = {total_voting_cost + total_delegating_cost}\")\n",
        "\n",
        "\n",
        "    total_voting_cost = sum(voting_costs[v] for v in selected_vertices)\n",
        "    print(f\"Total voting cost: {total_voting_cost}\")\n",
        "\n",
        "\n",
        "    return total_voting_cost, selected_vertices"
      ],
      "metadata": {
        "id": "F4d5laNftteH"
      },
      "execution_count": 1,
      "outputs": []
    },
    {
      "cell_type": "markdown",
      "source": [
        "## Some examples on the usage of our main DP routine follow"
      ],
      "metadata": {
        "id": "G2naq5CIhdjJ"
      }
    },
    {
      "cell_type": "code",
      "source": [
        "    \"\"\"\n",
        "    Simple tree example:\n",
        "         0\n",
        "        / \\\n",
        "       1   2\n",
        "      / \\   \\\n",
        "     3   4   5\n",
        "    \"\"\"\n",
        "tree = [\n",
        "        [1, 2],  # 0 has incoming edges from 1 and 2\n",
        "        [3, 4],  # 1 has incoming edges from 3 and 4\n",
        "        [5],     # 2 has incoming edge from 5\n",
        "        [],      # 3 has no incoming edges\n",
        "        [],      # 4 has no incoming edges\n",
        "        []       # 5 has no incoming edges\n",
        "    ]\n",
        "\n",
        "voting_costs = [12, 6, 3, 2, 2, 12]\n",
        "delegating_costs = [1, 1, 1, 1, 1, 1]\n",
        "max_path_length = 1\n",
        "\n",
        "min_cost_delegation(tree, voting_costs, delegating_costs, max_path_length)"
      ],
      "metadata": {
        "colab": {
          "base_uri": "https://localhost:8080/"
        },
        "id": "Fhl8YfwE1htM",
        "outputId": "cb6796e1-c002-4d2c-f1eb-e36ad6e54a37"
      },
      "execution_count": 2,
      "outputs": [
        {
          "output_type": "stream",
          "name": "stdout",
          "text": [
            "Selected vertices: [0, 3, 4, 2]\n",
            "Total voting cost: 19\n"
          ]
        },
        {
          "output_type": "execute_result",
          "data": {
            "text/plain": [
              "(19, [0, 3, 4, 2])"
            ]
          },
          "metadata": {},
          "execution_count": 2
        }
      ]
    },
    {
      "cell_type": "code",
      "source": [
        "    \"\"\"\n",
        "    Deeper tree example:\n",
        "           0\n",
        "          / \\\n",
        "         1   2\n",
        "        /     \\\n",
        "       3       4\n",
        "      / \\     / \\\n",
        "     5   6   7   8\n",
        "    \"\"\"\n",
        "tree = [\n",
        "        [1, 2],   # 0 has incoming edges from 1 and 2\n",
        "        [3],      # 1 has incoming edge from 3\n",
        "        [4],      # 2 has incoming edge from 4\n",
        "        [5, 6],   # 3 has incoming edges from 5 and 6\n",
        "        [7, 8],   # 4 has incoming edges from 7 and 8\n",
        "        [],       # 5 has no incoming edges\n",
        "        [],       # 6 has no incoming edges\n",
        "        [],       # 7 has no incoming edges\n",
        "        []        # 8 has no incoming edges\n",
        "    ]\n",
        "\n",
        "voting_costs = [2, 6, 7, 5, 8, 2, 2, 2, 6]\n",
        "delegating_costs = [1, 1, 1, 1, 1, 1, 1, 1, 1]\n",
        "\n",
        "max_path_length = 2\n",
        "\n",
        "min_cost_delegation(tree, voting_costs, delegating_costs, max_path_length)\n",
        "\n"
      ],
      "metadata": {
        "colab": {
          "base_uri": "https://localhost:8080/"
        },
        "id": "19QTocDk1l-f",
        "outputId": "722a1d00-4d38-4a16-a2ca-d752cf5ba1ef"
      },
      "execution_count": 3,
      "outputs": [
        {
          "output_type": "stream",
          "name": "stdout",
          "text": [
            "Selected vertices: [0, 5, 6, 2]\n",
            "Total voting cost: 13\n"
          ]
        },
        {
          "output_type": "execute_result",
          "data": {
            "text/plain": [
              "(13, [0, 5, 6, 2])"
            ]
          },
          "metadata": {},
          "execution_count": 3
        }
      ]
    },
    {
      "cell_type": "code",
      "source": [
        "    \"\"\"\n",
        "    Linear chain example:\n",
        "    0 <- 1 <- 2 <- 3 <- 4 <- 5\n",
        "    \"\"\"\n",
        "tree = [\n",
        "        [1],      # 0 has incoming edge from 1\n",
        "        [2],      # 1 has incoming edge from 2\n",
        "        [3],      # 2 has incoming edge from 3\n",
        "        [4],      # 3 has incoming edge from 4\n",
        "        [5],      # 4 has incoming edge from 5\n",
        "        []        # 5 has no incoming edges\n",
        "    ]\n",
        "\n",
        "voting_costs = [5, 5, 5, 10, 5, 5]\n",
        "delegating_costs = [1, 1, 1, 1, 1, 1]\n",
        "max_path_length = 2\n",
        "min_cost_delegation(tree, voting_costs, delegating_costs, max_path_length)\n"
      ],
      "metadata": {
        "colab": {
          "base_uri": "https://localhost:8080/"
        },
        "id": "oy-VY2ax1pAr",
        "outputId": "32040ed4-38a5-4b70-fffd-f5af7f1d5f90"
      },
      "execution_count": 4,
      "outputs": [
        {
          "output_type": "stream",
          "name": "stdout",
          "text": [
            "Selected vertices: [0, 1, 4]\n",
            "Total voting cost: 15\n"
          ]
        },
        {
          "output_type": "execute_result",
          "data": {
            "text/plain": [
              "(15, [0, 1, 4])"
            ]
          },
          "metadata": {},
          "execution_count": 4
        }
      ]
    },
    {
      "cell_type": "code",
      "source": [
        "    \"\"\"\n",
        "    Star topology example:\n",
        "        0\n",
        "       /|\\\n",
        "      1 2 3\n",
        "     /|   |\\\n",
        "    4 5   6 7\n",
        "    \"\"\"\n",
        "tree = [\n",
        "        [1, 2, 3],    # 0 has incoming edges from 1, 2, 3\n",
        "        [4, 5],       # 1 has incoming edges from 4, 5\n",
        "        [],           # 2 has no incoming edges\n",
        "        [6, 7],       # 3 has incoming edges from 6, 7\n",
        "        [],           # 4 has no incoming edges\n",
        "        [],           # 5 has no incoming edges\n",
        "        [],           # 6 has no incoming edges\n",
        "        []            # 7 has no incoming edges\n",
        "    ]\n",
        "\n",
        "voting_costs = [10, 3, 5, 5, 2, 2, 2, 2]\n",
        "delegating_costs = [1, 1, 1, 1, 1, 1, 1, 1]\n",
        "max_path_length = 1\n",
        "\n",
        "min_cost_delegation(tree, voting_costs, delegating_costs, max_path_length)"
      ],
      "metadata": {
        "colab": {
          "base_uri": "https://localhost:8080/"
        },
        "id": "k-mSeOib1rMB",
        "outputId": "aca9a005-43dc-4c6a-df8e-ceac52610524"
      },
      "execution_count": 5,
      "outputs": [
        {
          "output_type": "stream",
          "name": "stdout",
          "text": [
            "Selected vertices: [0, 1, 6, 7]\n",
            "Total voting cost: 17\n"
          ]
        },
        {
          "output_type": "execute_result",
          "data": {
            "text/plain": [
              "(17, [0, 1, 6, 7])"
            ]
          },
          "metadata": {},
          "execution_count": 5
        }
      ]
    },
    {
      "cell_type": "code",
      "source": [
        "\n",
        "    \"\"\"\n",
        "    Unbalanced tree example:\n",
        "           0\n",
        "          / \\\n",
        "         1   2\n",
        "        /     \\\n",
        "       3       4\n",
        "      /         \\\n",
        "     5           6\n",
        "    \"\"\"\n",
        "tree = [\n",
        "        [1, 2],   # 0 has incoming edges from 1 and 2\n",
        "        [3],      # 1 has incoming edge from 3\n",
        "        [4],      # 2 has incoming edge from 4\n",
        "        [5],      # 3 has incoming edge from 5\n",
        "        [6],      # 4 has incoming edge from 6\n",
        "        [],       # 5 has no incoming edges\n",
        "        []        # 6 has no incoming edges\n",
        "    ]\n",
        "\n",
        "voting_costs = [12, 7, 7, 4, 9, 2, 2]\n",
        "delegating_costs = [1, 1, 1, 1, 1, 1, 1]\n",
        "\n",
        "max_path_length=1\n",
        "min_cost_delegation(tree, voting_costs, delegating_costs, max_path_length)"
      ],
      "metadata": {
        "colab": {
          "base_uri": "https://localhost:8080/"
        },
        "id": "hdUMnvEv1tEY",
        "outputId": "4dc6b649-402b-4762-aaf5-b3a4b4391c4e"
      },
      "execution_count": 6,
      "outputs": [
        {
          "output_type": "stream",
          "name": "stdout",
          "text": [
            "Selected vertices: [0, 3, 2, 6]\n",
            "Total voting cost: 25\n"
          ]
        },
        {
          "output_type": "execute_result",
          "data": {
            "text/plain": [
              "(25, [0, 3, 2, 6])"
            ]
          },
          "metadata": {},
          "execution_count": 6
        }
      ]
    },
    {
      "cell_type": "markdown",
      "source": [
        "### We now extend our code to handle any (connected) graph of out-deg<=1. Those are graphs with at most a cycle, so if we remove an edge (any such) we have a tree and our min_cost_delegation procedure can run. We can repeat this for every possible edge removal."
      ],
      "metadata": {
        "id": "VTsO0ZjXhrs2"
      }
    },
    {
      "cell_type": "code",
      "source": [
        "import networkx as nx\n",
        "def adjacency_list_to_edgelist(tree):\n",
        "    \"\"\"Converts an adjacency list representation to an edge list.\"\"\"\n",
        "    edges = []\n",
        "    for child, parents in enumerate(tree):\n",
        "        for parent in parents:\n",
        "            edges.append((parent, child))\n",
        "    return edges\n",
        "\n",
        "def is_connected_after_removal(graph, edge):\n",
        "    \"\"\"Checks if the graph remains connected after removing the given edge.\"\"\"\n",
        "    G = nx.DiGraph(graph)\n",
        "    G.remove_edge(*edge)\n",
        "    return nx.is_weakly_connected(G)\n",
        "\n",
        "def get_tree_after_removal(graph, edge):\n",
        "    \"\"\"Returns the tree representation after removing the given edge.\"\"\"\n",
        "    G = nx.DiGraph(graph)\n",
        "    G.remove_edge(*edge)\n",
        "    tree = [[] for _ in range(len(graph))]\n",
        "    for u, v in G.edges:\n",
        "        tree[v].append(u)\n",
        "    return tree\n",
        "\n",
        "def min_cost_after_edge_removal(tree, voting_costs, delegating_costs, max_path_length):\n",
        "    edges = adjacency_list_to_edgelist(tree)\n",
        "    G = nx.DiGraph(edges)\n",
        "    min_cost = float('inf')\n",
        "    best_set = set()\n",
        "\n",
        "    # If already a tree, run min_cost_delegation without removing anything\n",
        "    if nx.is_tree(G):\n",
        "        min_cost, best_set = min_cost_delegation(tree, voting_costs, delegating_costs, max_path_length)\n",
        "\n",
        "    for edge in G.edges:\n",
        "        print('remove:',edge)\n",
        "        if is_connected_after_removal(G, edge):\n",
        "            new_tree = get_tree_after_removal(G, edge)\n",
        "            cost, selected_vertices = min_cost_delegation(new_tree, voting_costs, delegating_costs, max_path_length)\n",
        "            if cost < min_cost:\n",
        "                min_cost = cost\n",
        "                best_set = selected_vertices\n",
        "\n",
        "    return min_cost, best_set"
      ],
      "metadata": {
        "id": "DVtTMKdL-aEd"
      },
      "execution_count": 7,
      "outputs": []
    },
    {
      "cell_type": "code",
      "source": [
        "# Example usage\n",
        "tree = [\n",
        "    [1, 2, 10],  # 0 has incoming edges from 1 and 2, 10\n",
        "    [3],      # 1 has incoming edge from 3\n",
        "    [4],      # 2 has incoming edge from 4\n",
        "    [5, 6],   # 3 has incoming edges from 5 and 6\n",
        "    [7, 8],   # 4 has incoming edges from 7 and 8\n",
        "    [], [], [], [],  # Leaves\n",
        "    [0],\n",
        "    [9]\n",
        "]\n",
        "voting_costs = [2, 2, 3, 4, 5, 6, 7, 8, 9, 2, 2]\n",
        "delegating_costs = [1, 1, 1, 1, 1, 1, 1, 1, 1, 1, 1]\n",
        "max_path_length = 6\n",
        "\n",
        "min_cost, selected_vertices = min_cost_after_edge_removal(tree, voting_costs, delegating_costs, max_path_length)\n",
        "print(min_cost, selected_vertices)"
      ],
      "metadata": {
        "id": "v9MtiNgL-aGi",
        "colab": {
          "base_uri": "https://localhost:8080/"
        },
        "outputId": "cddf075b-0993-455a-b47f-e2635d4b8358"
      },
      "execution_count": 8,
      "outputs": [
        {
          "output_type": "stream",
          "name": "stdout",
          "text": [
            "remove: (1, 0)\n",
            "remove: (0, 9)\n",
            "Selected vertices: [0]\n",
            "Total voting cost: 2\n",
            "remove: (2, 0)\n",
            "remove: (10, 0)\n",
            "Selected vertices: [10]\n",
            "Total voting cost: 2\n",
            "remove: (3, 1)\n",
            "remove: (4, 2)\n",
            "remove: (5, 3)\n",
            "remove: (6, 3)\n",
            "remove: (7, 4)\n",
            "remove: (8, 4)\n",
            "remove: (9, 10)\n",
            "Selected vertices: [9]\n",
            "Total voting cost: 2\n",
            "2 [0]\n"
          ]
        }
      ]
    },
    {
      "cell_type": "markdown",
      "source": [
        "### Finally, we extend the code to be able to handle disconnected inputs. In that case, we run the previous procedure for each component separately, the returned cost is the sum of voting costs for all components."
      ],
      "metadata": {
        "id": "_kmD0hFviFd4"
      }
    },
    {
      "cell_type": "code",
      "source": [
        "def run_for_connected_components(tree, voting_costs, delegating_costs, max_path_length):\n",
        "    # Step 1: Check for connected components\n",
        "    visited = [False] * len(tree)\n",
        "    components = []\n",
        "    final_cost = 0\n",
        "\n",
        "    for node in range(len(tree)):\n",
        "        if not visited[node]:\n",
        "            component = []\n",
        "            dfs(tree, node, visited, component)\n",
        "            components.append(component)\n",
        "\n",
        "    # Step 2: Run min_cost_after_edge_removal for each component\n",
        "    for component in components:\n",
        "        print()\n",
        "\n",
        "        # Step 2a: Handle components of size 1\n",
        "        if len(component) == 1:\n",
        "            node = component[0]\n",
        "            final_cost += voting_costs[node]  # Add the cost of the single node\n",
        "            selected_vertices = [node]  # The selected vertex is just the single node\n",
        "            print(f\"Component size 1: selected_vertex (original ID): {node}, cost: {voting_costs[node]}\")\n",
        "            continue  # Skip the min_cost_after_edge_removal for this component\n",
        "\n",
        "        # Step 2b: For components with at least 2 vertices, proceed normally\n",
        "        # Create an adjacency list for the component using original node IDs\n",
        "        subgraph = [[] for _ in range(len(tree))]\n",
        "\n",
        "        # Copy the relevant edges for the current component, preserving original node IDs\n",
        "        for node in component:\n",
        "            for neighbor in tree[node]:\n",
        "                if neighbor in component:  # Only include neighbors within the component\n",
        "                    subgraph[node].append(neighbor)\n",
        "\n",
        "        # Step 2c: Call min_cost_after_edge_removal for the subgraph\n",
        "        min_cost, selected_vertices = min_cost_after_edge_removal(subgraph, voting_costs, delegating_costs, max_path_length)\n",
        "        final_cost += min_cost\n",
        "\n",
        "        # Step 2d: Map selected local component vertices to their original node IDs\n",
        "        original_selected_vertices = [component[node] for node in selected_vertices]\n",
        "\n",
        "        # Step 2e: Print the original node IDs (component nodes)\n",
        "        print(f\"Component min_cost: {min_cost}, selected_vertices (original IDs): {original_selected_vertices}\")\n",
        "\n",
        "    # Step 3: Print the total cost\n",
        "    print('\\nThe total voting cost to be paid is')\n",
        "    return final_cost"
      ],
      "metadata": {
        "id": "54gvr76k-tOu"
      },
      "execution_count": 57,
      "outputs": []
    },
    {
      "cell_type": "code",
      "source": [
        "graph = [\n",
        "    [1],  # Component 1\n",
        "    [2],  # this is a path of length 2\n",
        "    [],   # Leaf in Component 1\n",
        "    [4],  # Component 2; path of length 1\n",
        "    [],   # Leaf in Component 2\n",
        "    [6],  # Component 3; path of length 1\n",
        "    []    # Leaf in Component 3\n",
        "]\n",
        "voting_costs = [1, 2, 3, 4, 5, 6, 7]\n",
        "max_path_length = 1\n",
        "\n",
        "run_for_connected_components(graph, voting_costs, [1]*len(graph), max_path_length)"
      ],
      "metadata": {
        "id": "XcaUTgW8EQ3-",
        "colab": {
          "base_uri": "https://localhost:8080/"
        },
        "outputId": "4e951625-fcf8-410b-a58a-c7d0ebe497e4"
      },
      "execution_count": 58,
      "outputs": [
        {
          "output_type": "stream",
          "name": "stdout",
          "text": [
            "\n",
            "Selected vertices: [0, 1]\n",
            "Total voting cost: 3\n",
            "remove: (1, 0)\n",
            "remove: (2, 1)\n",
            "Component min_cost: 3, selected_vertices (original IDs): [0, 1]\n",
            "\n",
            "Selected vertices: [0]\n",
            "Total voting cost: 1\n",
            "remove: (4, 3)\n",
            "Component min_cost: 1, selected_vertices (original IDs): [3]\n",
            "\n",
            "Selected vertices: [0]\n",
            "Total voting cost: 1\n",
            "remove: (6, 5)\n",
            "Component min_cost: 1, selected_vertices (original IDs): [5]\n",
            "\n",
            "The total voting cost to be paid is\n"
          ]
        },
        {
          "output_type": "execute_result",
          "data": {
            "text/plain": [
              "5"
            ]
          },
          "metadata": {},
          "execution_count": 58
        }
      ]
    },
    {
      "cell_type": "code",
      "source": [
        "import pandas as pd\n",
        "df=pd.read_csv('/data.csv')"
      ],
      "metadata": {
        "id": "D5Vnfd7_5bbW"
      },
      "execution_count": 59,
      "outputs": []
    },
    {
      "cell_type": "code",
      "source": [
        "essai = df.loc[(df.CodeQuestion == 'K1')&(df.ExpNum == 'E13')]"
      ],
      "metadata": {
        "id": "3iuUZ8dG6GpJ"
      },
      "execution_count": 60,
      "outputs": []
    },
    {
      "cell_type": "code",
      "source": [
        "graph = []\n",
        "for i, r in essai.iterrows():\n",
        "    leaves = list(essai.loc[essai.DelID == r.ID].ID)\n",
        "    graph.append(leaves)\n",
        "print(graph,len(graph))\n",
        "# print(\"\",list(essai.AverageExpertise),len(list(essai.AverageExpertise)))"
      ],
      "metadata": {
        "colab": {
          "base_uri": "https://localhost:8080/"
        },
        "id": "7GV_PZiJ6OYC",
        "outputId": "6d9f604a-dbef-42af-ecae-603d54516692"
      },
      "execution_count": 61,
      "outputs": [
        {
          "output_type": "stream",
          "name": "stdout",
          "text": [
            "[[16], [], [], [], [], [], [], [], [], [], [], [], [], [], [13, 23, 29, 34, 41, 42, 46], [], [33], [], [], [], [], [], [10], [], [], [], [], [], [], [21], [5, 28], [], [], [], [], [], [22], [], [], [], [], [], [], [], [19], [12], [], [], [], [18]] 50\n"
          ]
        }
      ]
    },
    {
      "cell_type": "code",
      "source": [
        "run_for_connected_components(graph, [3]*len(graph), [1]*len(graph), 10)"
      ],
      "metadata": {
        "colab": {
          "base_uri": "https://localhost:8080/"
        },
        "id": "Ww4GvfRY6xFy",
        "outputId": "0895a8b2-12ce-4519-dfd9-dc5eceb44d71"
      },
      "execution_count": 62,
      "outputs": [
        {
          "output_type": "stream",
          "name": "stdout",
          "text": [
            "\n",
            "Selected vertices: [0]\n",
            "Total voting cost: 3\n",
            "remove: (16, 0)\n",
            "remove: (33, 16)\n",
            "Component min_cost: 3, selected_vertices (original IDs): [0]\n",
            "\n",
            "Component size 1: selected_vertex (original ID): 1, cost: 3\n",
            "\n",
            "Component size 1: selected_vertex (original ID): 2, cost: 3\n",
            "\n",
            "Component size 1: selected_vertex (original ID): 3, cost: 3\n",
            "\n",
            "Component size 1: selected_vertex (original ID): 4, cost: 3\n",
            "\n",
            "Component size 1: selected_vertex (original ID): 5, cost: 3\n",
            "\n",
            "Component size 1: selected_vertex (original ID): 6, cost: 3\n",
            "\n",
            "Component size 1: selected_vertex (original ID): 7, cost: 3\n",
            "\n",
            "Component size 1: selected_vertex (original ID): 8, cost: 3\n",
            "\n",
            "Component size 1: selected_vertex (original ID): 9, cost: 3\n",
            "\n",
            "Component size 1: selected_vertex (original ID): 10, cost: 3\n",
            "\n",
            "Component size 1: selected_vertex (original ID): 11, cost: 3\n",
            "\n",
            "Component size 1: selected_vertex (original ID): 12, cost: 3\n",
            "\n",
            "Component size 1: selected_vertex (original ID): 13, cost: 3\n",
            "\n",
            "Selected vertices: [0]\n",
            "Total voting cost: 3\n",
            "remove: (23, 14)\n",
            "remove: (29, 14)\n",
            "remove: (34, 14)\n",
            "remove: (41, 14)\n",
            "remove: (42, 14)\n",
            "remove: (46, 14)\n",
            "remove: (21, 29)\n",
            "Component min_cost: 3, selected_vertices (original IDs): [14]\n",
            "\n",
            "Component size 1: selected_vertex (original ID): 15, cost: 3\n",
            "\n",
            "Component size 1: selected_vertex (original ID): 17, cost: 3\n",
            "\n",
            "Component size 1: selected_vertex (original ID): 18, cost: 3\n",
            "\n",
            "Component size 1: selected_vertex (original ID): 19, cost: 3\n",
            "\n",
            "Component size 1: selected_vertex (original ID): 20, cost: 3\n",
            "\n",
            "Component size 1: selected_vertex (original ID): 22, cost: 3\n",
            "\n",
            "Component size 1: selected_vertex (original ID): 24, cost: 3\n",
            "\n",
            "Component size 1: selected_vertex (original ID): 25, cost: 3\n",
            "\n",
            "Component size 1: selected_vertex (original ID): 26, cost: 3\n",
            "\n",
            "Component size 1: selected_vertex (original ID): 27, cost: 3\n",
            "\n",
            "Component size 1: selected_vertex (original ID): 28, cost: 3\n",
            "\n",
            "Component size 1: selected_vertex (original ID): 30, cost: 3\n",
            "\n",
            "Component size 1: selected_vertex (original ID): 31, cost: 3\n",
            "\n",
            "Component size 1: selected_vertex (original ID): 32, cost: 3\n",
            "\n",
            "Component size 1: selected_vertex (original ID): 35, cost: 3\n",
            "\n",
            "Component size 1: selected_vertex (original ID): 36, cost: 3\n",
            "\n",
            "Component size 1: selected_vertex (original ID): 37, cost: 3\n",
            "\n",
            "Component size 1: selected_vertex (original ID): 38, cost: 3\n",
            "\n",
            "Component size 1: selected_vertex (original ID): 39, cost: 3\n",
            "\n",
            "Component size 1: selected_vertex (original ID): 40, cost: 3\n",
            "\n",
            "Component size 1: selected_vertex (original ID): 43, cost: 3\n",
            "\n",
            "Component size 1: selected_vertex (original ID): 44, cost: 3\n",
            "\n",
            "Component size 1: selected_vertex (original ID): 45, cost: 3\n",
            "\n",
            "Component size 1: selected_vertex (original ID): 47, cost: 3\n",
            "\n",
            "Component size 1: selected_vertex (original ID): 48, cost: 3\n",
            "\n",
            "Component size 1: selected_vertex (original ID): 49, cost: 3\n",
            "\n",
            "The total voting cost to be paid is\n"
          ]
        },
        {
          "output_type": "execute_result",
          "data": {
            "text/plain": [
              "123"
            ]
          },
          "metadata": {},
          "execution_count": 62
        }
      ]
    },
    {
      "cell_type": "code",
      "source": [],
      "metadata": {
        "id": "2oHkrjpX87wt"
      },
      "execution_count": null,
      "outputs": []
    }
  ]
}